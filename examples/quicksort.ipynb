{
 "cells": [
  {
   "cell_type": "markdown",
   "id": "4209eecd",
   "metadata": {},
   "source": [
    "# Quicksort\n",
    "This file contains the quicksort example from the slides. In this notebook, we show how to create progressively more parallel versions of the quicksort algorithm using HPX.\n",
    "\n",
    "Note: This is a simlified qsort. It can only sort a vector of items that are unique. Duplicate items will cause infinite recursion."
   ]
  },
  {
   "cell_type": "code",
   "execution_count": 1,
   "id": "0357ebaa",
   "metadata": {},
   "outputs": [
    {
     "data": {
      "text/plain": []
     },
     "execution_count": 1,
     "metadata": {},
     "output_type": "execute_result"
    }
   ],
   "source": [
    "#include <algorithm>\n",
    "#include <cstdlib>\n",
    "#include <vector>\n",
    "#include <unistd.h>\n",
    "#include <random>\n",
    "#include <iostream>\n",
    "#include <chrono>"
   ]
  },
  {
   "cell_type": "markdown",
   "id": "8f7d2d58",
   "metadata": {},
   "source": [
    "## The Basic Quicksort Algorithm\n",
    "This version uses the built-in C++ partitioning algorithm."
   ]
  },
  {
   "cell_type": "code",
   "execution_count": 2,
   "id": "d3e2d9c4",
   "metadata": {},
   "outputs": [
    {
     "data": {
      "text/plain": []
     },
     "execution_count": 2,
     "metadata": {},
     "output_type": "execute_result"
    }
   ],
   "source": [
    "template <typename RandomIter >\n",
    "void quick_sort (RandomIter first, RandomIter last)\n",
    "{\n",
    "    ptrdiff_t size = last - first ;\n",
    "    if (size > 1) {\n",
    "        RandomIter pivot = partition(first, last,\n",
    "                [p=*(first + rand() % size)](auto v) { return v < p; });\n",
    "        quick_sort(first, pivot);\n",
    "        quick_sort(pivot, last);\n",
    "    }\n",
    "}"
   ]
  },
  {
   "cell_type": "markdown",
   "id": "b005bbff",
   "metadata": {},
   "source": [
    "This cell contains a convenience method for printing out a vector."
   ]
  },
  {
   "cell_type": "code",
   "execution_count": 3,
   "id": "9d00b3b0",
   "metadata": {},
   "outputs": [
    {
     "data": {
      "text/plain": []
     },
     "execution_count": 3,
     "metadata": {},
     "output_type": "execute_result"
    }
   ],
   "source": [
    "#undef show_max\n",
    "#define show_max 10"
   ]
  },
  {
   "cell_type": "code",
   "execution_count": 4,
   "id": "bab03ad3",
   "metadata": {},
   "outputs": [
    {
     "data": {
      "text/plain": []
     },
     "execution_count": 4,
     "metadata": {},
     "output_type": "execute_result"
    }
   ],
   "source": [
    "template<typename V>\n",
    "std::ostream& operator<<(std::ostream& o,const std::vector<V>& v) {\n",
    "    auto i = v.begin();\n",
    "    o << '{';\n",
    "    if(i != v.end()) o << *i++;\n",
    "    int shown = 1;\n",
    "    for(;i != v.end(); ++i) {\n",
    "        o << ' ' << *i;\n",
    "        shown++;\n",
    "        if(shown >= show_max) {\n",
    "            o << \"...\";\n",
    "            break;\n",
    "        }\n",
    "    }\n",
    "    o << '}';\n",
    "    return o;\n",
    "}"
   ]
  },
  {
   "cell_type": "markdown",
   "id": "6fa90a11",
   "metadata": {},
   "source": [
    "This cell generates a vector of items, shuffles them, then passes them to our quicksort routine."
   ]
  },
  {
   "cell_type": "code",
   "execution_count": 5,
   "id": "4f238255",
   "metadata": {},
   "outputs": [
    {
     "data": {
      "text/plain": []
     },
     "execution_count": 5,
     "metadata": {},
     "output_type": "execute_result"
    }
   ],
   "source": [
    "#undef sort_max\n",
    "#define sort_max 200000"
   ]
  },
  {
   "cell_type": "code",
   "execution_count": 6,
   "id": "47d0c0aa",
   "metadata": {},
   "outputs": [
    {
     "data": {
      "text/plain": []
     },
     "execution_count": 6,
     "metadata": {},
     "output_type": "execute_result"
    }
   ],
   "source": [
    "#undef iterations\n",
    "#define iterations 20"
   ]
  },
  {
   "cell_type": "code",
   "execution_count": 7,
   "id": "c16ee571",
   "metadata": {},
   "outputs": [
    {
     "name": "stdout",
     "output_type": "stream",
     "text": [
      "{0 1 2 3 4 5 6 7 8 9...}\n",
      "{159491 85145 42224 113823 165572 90036 154316 65614 151004 190798...}\n",
      "duration: 2.22455\n",
      "{0 1 2 3 4 5 6 7 8 9...}\n"
     ]
    },
    {
     "data": {
      "text/plain": []
     },
     "execution_count": 7,
     "metadata": {},
     "output_type": "execute_result"
    }
   ],
   "source": [
    ".expr\n",
    "using namespace std::chrono;\n",
    "std::vector<int> v;\n",
    "for(int i=0;i<sort_max;i++) v.push_back(i);\n",
    "std::cout << v << std::endl;\n",
    "int seed = getpid();\n",
    "std::shuffle(v.begin(), v.end(), std::default_random_engine(seed));\n",
    "std::cout << v << std::endl;\n",
    "\n",
    "auto start = high_resolution_clock::now();\n",
    "for(int i=0;i<iterations;i++)\n",
    "    quick_sort(v.begin(), v.end());\n",
    "auto finish = high_resolution_clock::now();\n",
    "auto duration = duration_cast<microseconds>(finish - start);\n",
    "std::cout << \"duration: \" << (duration.count()*1e-6) << std::endl;\n",
    "\n",
    "std::cout << v << std::endl;"
   ]
  },
  {
   "cell_type": "code",
   "execution_count": 8,
   "id": "22154f54",
   "metadata": {},
   "outputs": [
    {
     "data": {
      "text/plain": []
     },
     "execution_count": 8,
     "metadata": {},
     "output_type": "execute_result"
    }
   ],
   "source": [
    "#include <run_hpx.cpp>"
   ]
  },
  {
   "cell_type": "markdown",
   "id": "d8f25c45",
   "metadata": {},
   "source": [
    "## Parallelizing!\n",
    "\n",
    "When parallelizing an algorithm, it doesn't make sense to parallelize very small pieces of work."
   ]
  },
  {
   "cell_type": "code",
   "execution_count": 9,
   "id": "3374af33",
   "metadata": {},
   "outputs": [
    {
     "data": {
      "text/plain": []
     },
     "execution_count": 9,
     "metadata": {},
     "output_type": "execute_result"
    }
   ],
   "source": [
    "#undef threshold\n",
    "#define threshold (sort_max/10)"
   ]
  },
  {
   "cell_type": "markdown",
   "id": "ede366b0",
   "metadata": {},
   "source": [
    "Here we do a very simple parallelization. We launch the first recursive call in a thread, run the second one, then wait for the first one to finish."
   ]
  },
  {
   "cell_type": "code",
   "execution_count": 10,
   "id": "3c89afc8",
   "metadata": {},
   "outputs": [
    {
     "data": {
      "text/plain": []
     },
     "execution_count": 10,
     "metadata": {},
     "output_type": "execute_result"
    }
   ],
   "source": [
    "// In C++ you can't redefine symbols, but you can redefine macros.\n",
    "// Here we employ this technique to allow the redefinition of quicksort2.\n",
    "// Each time you edit and recompile this cell, just increase the version\n",
    "// number and everything should be fine.\n",
    "#undef quick_sort2\n",
    "#define quick_sort2 quick_sort2v1\n",
    "template <typename RandomIter >\n",
    "void quick_sort2 (RandomIter first, RandomIter last)\n",
    "{\n",
    "    ptrdiff_t size = last - first ;\n",
    "    //std::cout << \"size=\" << size << std::endl;\n",
    "    if (size > threshold) {\n",
    "        RandomIter pivot = partition(first, last,\n",
    "                [p=*(first + rand() % size)](auto v) { return v < p; });\n",
    "        // launch this task asynchronously\n",
    "        auto f = hpx::async(hpx::launch::async,[&](){ quick_sort2(first, pivot); });\n",
    "        // run this task synchronously\n",
    "        quick_sort2(pivot, last);\n",
    "        // wait for the asynchronous task to finish\n",
    "        f.wait();\n",
    "    } else {\n",
    "        quick_sort(first, last);\n",
    "    }\n",
    "}"
   ]
  },
  {
   "cell_type": "markdown",
   "id": "f8a4d7f3",
   "metadata": {},
   "source": [
    "Run the parallel quicksort"
   ]
  },
  {
   "cell_type": "code",
   "execution_count": 11,
   "id": "60356d3b",
   "metadata": {},
   "outputs": [
    {
     "name": "stdout",
     "output_type": "stream",
     "text": [
      "{0 1 2 3 4 5 6 7 8 9...}\n",
      "{66991 189844 47180 168935 169005 127512 119388 134447 96200 116101...}\n",
      "duration: 2.5186\n",
      "{0 1 2 3 4 5 6 7 8 9...}\n"
     ]
    },
    {
     "data": {
      "text/plain": []
     },
     "execution_count": 11,
     "metadata": {},
     "output_type": "execute_result"
    }
   ],
   "source": [
    ".expr\n",
    "run_hpx([](){\n",
    "using namespace std::chrono;\n",
    "std::vector<int> v;\n",
    "for(int i=0;i<sort_max;i++) v.push_back(i);\n",
    "std::cout << v << std::endl;\n",
    "int seed = getpid();\n",
    "std::shuffle(v.begin(), v.end(), std::default_random_engine(seed));\n",
    "std::cout << v << std::endl;\n",
    "\n",
    "auto start = high_resolution_clock::now();\n",
    "for(int i=0;i<iterations;i++)\n",
    "    quick_sort2(v.begin(), v.end());\n",
    "auto finish = high_resolution_clock::now();\n",
    "auto duration = duration_cast<microseconds>(finish - start);\n",
    "std::cout << \"duration: \" << (duration.count()*1e-6) << std::endl;\n",
    "\n",
    "std::cout << v << std::endl;\n",
    "});"
   ]
  },
  {
   "cell_type": "markdown",
   "id": "18baffa0",
   "metadata": {},
   "source": [
    "## Even more Parallelism!\n",
    "This time, we will parallelize the partitioning step as well."
   ]
  },
  {
   "cell_type": "code",
   "execution_count": 12,
   "id": "377f3524",
   "metadata": {},
   "outputs": [
    {
     "data": {
      "text/plain": []
     },
     "execution_count": 12,
     "metadata": {},
     "output_type": "execute_result"
    }
   ],
   "source": [
    "#undef quick_sort3\n",
    "#define quick_sort3 quick_sort3v1\n",
    "template <typename RandomIter >\n",
    "hpx::future<void> quick_sort3 (RandomIter first, RandomIter last)\n",
    "{\n",
    "    ptrdiff_t size = last - first ;\n",
    "    if (size > threshold) {\n",
    "        hpx::future<RandomIter> pivot = hpx::partition(hpx::execution::par(hpx::execution::task), first, last,\n",
    "            [p = *(first+rand()%size)](auto v) { return v < p; });\n",
    "        return pivot.then([=](auto pf) {\n",
    "            auto pivot = pf.get();\n",
    "            auto f = hpx::async([&](){ return quick_sort3(pivot, last); });\n",
    "            return hpx::when_all(quick_sort3(first, pivot), f);\n",
    "        });\n",
    "    } else {\n",
    "        quick_sort(first, last);\n",
    "        return hpx::make_ready_future();\n",
    "    }\n",
    "}"
   ]
  },
  {
   "cell_type": "markdown",
   "id": "4effce7b",
   "metadata": {},
   "source": [
    "Run the parallel quicksort"
   ]
  },
  {
   "cell_type": "code",
   "execution_count": 13,
   "id": "75189806",
   "metadata": {},
   "outputs": [
    {
     "name": "stdout",
     "output_type": "stream",
     "text": [
      "{0 1 2 3 4 5 6 7 8 9...}\n",
      "{31502 161342 147332 33498 110722 11036 194027 7553 102842 40929...}\n",
      "duration: 0.676801\n",
      "{0 1 2 3 4 5 6 7 8 9...}\n"
     ]
    },
    {
     "data": {
      "text/plain": []
     },
     "execution_count": 13,
     "metadata": {},
     "output_type": "execute_result"
    }
   ],
   "source": [
    ".expr\n",
    "run_hpx([](){\n",
    "using namespace std::chrono;\n",
    "std::vector<int> v;\n",
    "for(int i=0;i<sort_max;i++) v.push_back(i);\n",
    "std::cout << v << std::endl;\n",
    "int seed = getpid();\n",
    "std::shuffle(v.begin(), v.end(), std::default_random_engine(seed));\n",
    "std::cout << v << std::endl;\n",
    "\n",
    "auto start = high_resolution_clock::now();\n",
    "for(int i=0;i<iterations;i++)\n",
    "    quick_sort3(v.begin(), v.end()).wait();\n",
    "auto finish = high_resolution_clock::now();\n",
    "auto duration = duration_cast<microseconds>(finish - start);\n",
    "std::cout << \"duration: \" << (duration.count()*1e-6) << std::endl;\n",
    "\n",
    "std::cout << v << std::endl;\n",
    "});"
   ]
  },
  {
   "cell_type": "code",
   "execution_count": null,
   "id": "6edf99c8",
   "metadata": {},
   "outputs": [],
   "source": []
  }
 ],
 "metadata": {
  "kernelspec": {
   "display_name": "C++17",
   "language": "C++",
   "name": "cling-cpp17"
  },
  "language_info": {
   "codemirror_mode": "c++",
   "file_extension": ".c++",
   "mimetype": "text/x-c++src",
   "name": "c++"
  }
 },
 "nbformat": 4,
 "nbformat_minor": 5
}
